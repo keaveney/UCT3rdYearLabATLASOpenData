{
 "cells": [
  {
   "cell_type": "code",
   "execution_count": 26,
   "metadata": {},
   "outputs": [],
   "source": [
    "import uproot3 as uproot\n",
    "import uproot_methods\n",
    "import uproot_methods.classes.TLorentzVector as LVepm\n",
    "import matplotlib.pyplot as plt\n",
    "import time\n",
    "import infofile\n",
    "import numpy as np\n",
    "import mplhep as hep\n",
    "from scipy import stats\n",
    "import boost_histogram as bh\n",
    "import pandas as pd"
   ]
  },
  {
   "cell_type": "code",
   "execution_count": 152,
   "metadata": {},
   "outputs": [],
   "source": [
    "samples = [\"wzcc\", \"wzbb\", \"ttz\", \"twz\"]\n",
    "\n",
    "xsecs= [785, 973, 759, 116]\n",
    "\n",
    "#BR = [ (0.034 + 0.034) * (0.11 + 0.11),\n",
    "#       (0.034 + 0.034) * (0.11 + 0.11),\n",
    "#       (0.034 + 0.034) * (0.11 + 0.11),\n",
    "#       (0.034 + 0.034) * (0.11 + 0.11)\n",
    "#     ]\n",
    "\n",
    "BR = [ (0.034 + 0.034) * (0.11 + 0.11),\n",
    "       (0.034 + 0.034) * (0.11 + 0.11),\n",
    "       (0.22 * 0.78)*(2)*(0.068),\n",
    "       (0.22 * 0.78)*(2)*(0.068)\n",
    "     ]\n",
    "\n",
    "\n",
    "\n",
    "\n",
    "\n",
    "intLumi = 3000.0\n",
    "n_events = 30000\n",
    "\n",
    "bins_z_mass = np.linspace(60.0, 120.0, num=30)\n",
    "bins_z_pt = np.linspace(0.0, 300.0, num=4)\n",
    "bins_ht = np.linspace(0.0, 2000.0, num=15)\n",
    "bins_met = np.linspace(0.0, 300.0, num=15)\n",
    "bins_bjj_mass = np.linspace(0.0, 700.0, num=10)"
   ]
  },
  {
   "cell_type": "code",
   "execution_count": null,
   "metadata": {},
   "outputs": [
    {
     "name": "stdout",
     "output_type": "stream",
     "text": [
      "Number of baseline-selected events = 35\n",
      "[[123.57399 108.98905 28.37255] [124.87208 67.39126 67.046745 33.45144 26.648052] [69.69313 48.22303 27.958239 27.679794] ... [92.782715 32.381283 29.184738] [77.67467 68.84183 39.25104] [170.68939 119.63159 25.13675]]\n",
      "[123.57399  124.87208   69.69313  110.84868  128.90833   94.93843\n",
      " 196.42075  109.966545 314.0751   199.88612   39.837955 469.95624\n",
      " 213.90059  705.2938   164.60799   88.97633  257.4786   128.6809\n",
      "  83.80929   88.17105  186.80113   55.62699  201.56163  432.18506\n",
      " 255.65746   70.55874  170.95589  107.65696   71.95477  139.35385\n",
      " 170.16963  110.52206   92.782715  77.67467  170.68939 ]\n",
      "Number of fully-selected events = 34\n",
      "Number of baseline-selected events = 91\n",
      "[[89.87091 53.910103 36.70597] [105.64349 68.23687 48.74986] [85.45971 71.22016 60.332634 34.66725 28.432255] ... [160.18227 32.846992 32.642937] [111.99946 110.05876 42.62995] [59.9558 38.408455 33.362507 30.329653]]\n",
      "[ 89.87091  105.64349   85.45971  277.39917  153.04134   45.2726\n",
      " 155.48618  100.78231  195.52513  136.64168  279.5209   109.23441\n",
      " 123.11813   36.92703  121.71475  181.3362    86.33887  503.64328\n",
      " 100.21165  105.77775   46.186478 109.64313  433.54077   32.899296\n",
      " 195.55783   64.919304  66.25939  112.85754  128.00392  160.96083\n",
      " 107.278404  55.42751  101.70044  161.7329   154.52765  232.8342\n",
      " 170.13466   78.78151  285.83655   36.276142  49.288692 165.82127\n",
      "  86.49666   59.018764 122.06464   79.03652   74.45848  139.47691\n",
      " 130.84062   75.24809   42.0178   123.969734 192.5227   223.88795\n",
      " 175.8697    37.614365 102.728035  94.028496 109.573685 140.88773\n",
      "  55.802723  98.82159  145.38126  297.571     40.455864 228.70795\n",
      " 155.03731  372.10938   51.75078   68.99068  141.18959  112.214745\n",
      " 145.62848  149.65913   77.78753   50.752502  52.36247  159.16885\n",
      "  97.40169   84.30471   74.66215   81.94537  125.40738  158.46043\n",
      " 159.17589  157.1182   169.67151   43.49987  160.18227  111.99946\n",
      "  59.9558  ]\n",
      "Number of fully-selected events = 89\n",
      "Number of baseline-selected events = 6078\n",
      "[[229.57751 116.424675 76.46965] [203.04974 110.65557 96.02585 93.61203 33.4065] [95.33147 53.00684 42.121548] ... [118.39603 100.23882 86.88691 71.63668 27.806932] [138.52429 110.239204 86.51844 42.600193 30.73295] [125.374954 99.05844 66.02299 52.729923]]\n",
      "[229.57751  203.04974   95.33147  ... 118.39603  138.52429  125.374954]\n"
     ]
    }
   ],
   "source": [
    "plot_z_mass = []\n",
    "plot_z_pt = []\n",
    "plot_z_pt_true = []\n",
    "plot_ht = []\n",
    "plot_met = []\n",
    "plot_bjj_mass = []\n",
    "\n",
    "for isample in range(0, len(samples)):\n",
    "\n",
    "    n_mumu_cand = np.array([])\n",
    "    mumu_cand_masses = np.array([])\n",
    "    mumu_cand_pts = np.array([])\n",
    "\n",
    "    n_elel_cand = np.array([])\n",
    "    elel_cand_masses = np.array([])\n",
    "    elel_cand_pts = np.array([])\n",
    "\n",
    "    sample_name = str(\"delphes_output_\") + str(samples[isample]) + str(\"_3l.root\")\n",
    "    eventsData = uproot.open(sample_name)[\"Delphes\"] \n",
    "    EventCrossSection, JetPT, JetEta, JetPhi, JetBTag, HT, MET, MuonPT, MuonEta, MuonPhi, MuonT, MuonCharge, MuonIsolationVar, MuonDZ, ElectronPT, ElectronEta,  ElectronPhi,  ElectronT, ElectronCharge, ElectronIsolationVar, ParticlePID, ParticleStatus, ParticleMass, ParticlePT = eventsData.arrays([\"Event.CrossSection\",\"Jet.PT\", \"Jet.Eta\",\"Jet.Phi\", \"Jet.BTag\", \"ScalarHT.HT\", \"MissingET.MET\", \"Muon.PT\", \"Muon.Eta\", \"Muon.Phi\", \"Muon.T\", \"Muon.Charge\", \"Muon.IsolationVar\", \"Muon.DZ\", \"Electron.PT\", \"Electron.Eta\", \"Electron.Phi\", \"Electron.T\", \"Electron.Charge\", \"Electron.IsolationVar\", \"Particle.PID\", \"Particle.Status\",\"Particle.Mass\", \"Particle.PT\"],outputtype=tuple)\n",
    "\n",
    "    EventIDs = np.arange(0, len(EventCrossSection), 1, dtype=int) \n",
    "    \n",
    "    evWeight = (xsecs[isample] * BR[isample] * intLumi)/n_events\n",
    "   \n",
    "    #object-level cuts\n",
    "    e_cut  = (ElectronPT>15) & (ElectronIsolationVar<0.1) & ( abs(ElectronEta)< 4)\n",
    "    mu_cut  = (MuonPT>15) & (MuonIsolationVar<0.1) & ( abs(MuonEta)< 4)\n",
    "    jet_cut  = (JetPT>20) & (abs(JetEta)< 4.5)\n",
    "    btag_cut  = (JetBTag==1)\n",
    "    \n",
    "    #event-level cuts    \n",
    "    n_lep_cut = ( ( (ElectronPT[e_cut].counts) + (MuonPT[mu_cut].counts))== 3) \n",
    "    sum_charge_cut =  ((ElectronCharge[e_cut].sum()) + (MuonCharge[mu_cut].sum()) <3 )\n",
    "    njet_cut = (JetPT[jet_cut].counts >= 3)\n",
    "    nbtag_cut = (JetPT[jet_cut & btag_cut].counts >= 1)\n",
    "    \n",
    "    # flat event cut\n",
    "    event_cut = (n_lep_cut & sum_charge_cut & njet_cut & nbtag_cut)\n",
    "    \n",
    "    #Get true Z pt for all events\n",
    "    EventNumber, ParticlefUniqueID, ParticlePID, ParticleM1, ParticleStatus, ParticleMass, ParticlePT, ParticleEta, ParticlePhi = eventsData.arrays([\"Event.Number\", \"Particle.fUniqueID\", \"Particle.PID\", \"Particle.M1\", \"Particle.Status\",\"Particle.Mass\", \"Particle.PT\", \"Particle.Eta\", \"Particle.Phi\"], outputtype=tuple)\n",
    "    z_pt_true = ParticlePT[(ParticlePID==23) & (ParticleStatus==62)]\n",
    "    #print(z_pt_true)\n",
    "\n",
    "    #Get Unique Event IDs of events passing the baseline selection\n",
    "    selected_event_IDs = EventIDs[event_cut]\n",
    "    print(\"Number of baseline-selected events = \" + str(len(selected_event_IDs)) )\n",
    "    \n",
    "    #Make array with len = total events and all values\n",
    "    z_pt_reco = np.full(len(EventCrossSection), -1)\n",
    "    z_mass_reco = np.full(len(EventCrossSection), -1)\n",
    "    \n",
    "    print(JetPT[event_cut])\n",
    "    print(JetPT[event_cut,0])\n",
    "    \n",
    "    j1_lv = LVepm.TLorentzVectorArray.from_ptetaphim(JetPT[event_cut,0],JetEta[event_cut,0],JetPhi[event_cut,0],0.0)\n",
    "    j2_lv = LVepm.TLorentzVectorArray.from_ptetaphim(JetPT[event_cut,1],JetEta[event_cut,1],JetPhi[event_cut,1],0.0)\n",
    "    j3_lv = LVepm.TLorentzVectorArray.from_ptetaphim(JetPT[event_cut,2],JetEta[event_cut,2],JetPhi[event_cut,2],0.0)\n",
    "\n",
    "    bjj_lv = j1_lv + j2_lv + j3_lv\n",
    "    \n",
    "    # Loop over the baseline-selected events and search for Z candidates\n",
    "    for sel_ev in range (0, len(EventIDs[event_cut])):\n",
    "        sel_ev_ID = selected_event_IDs[sel_ev]\n",
    "        \n",
    "        mumu_pt = -1.0\n",
    "        mumu_mass = -1.0\n",
    "\n",
    "        #find Z->mumu candidates\n",
    "        sel_mu_pt   = MuonPT[sel_ev_ID]\n",
    "        sel_mu_eta  = MuonEta[sel_ev_ID]\n",
    "        sel_mu_phi  = MuonPhi[sel_ev_ID]\n",
    "\n",
    "        sel_mu_m_pt   = MuonPT[MuonCharge ==-1][sel_ev_ID]\n",
    "        sel_mu_m_eta  = MuonEta[MuonCharge ==-1][sel_ev_ID]\n",
    "        sel_mu_m_phi  = MuonPhi[MuonCharge ==-1][sel_ev_ID] \n",
    "    \n",
    "        sel_mu_p_pt   = MuonPT[MuonCharge ==1][sel_ev_ID]\n",
    "        sel_mu_p_eta  = MuonEta[MuonCharge ==1][sel_ev_ID]\n",
    "        sel_mu_p_phi  = MuonPhi[MuonCharge ==1][sel_ev_ID] \n",
    "        \n",
    "        #make mu+ mu- combinations\n",
    "        for mum in range(0, len(sel_mu_m_pt)):            \n",
    "            mu_m_lv = LVepm.TLorentzVector.from_ptetaphim(sel_mu_m_pt[mum],sel_mu_m_eta[mum],sel_mu_m_phi[mum], 0.0)\n",
    "            for mup in range(0, len(sel_mu_p_pt)):\n",
    "                mu_p_lv = LVepm.TLorentzVector.from_ptetaphim(sel_mu_p_pt[mup],sel_mu_p_eta[mup],sel_mu_p_phi[mup], 0.0)\n",
    "                mumu_lv = mu_m_lv + mu_p_lv\n",
    "                if ((mumu_lv.mass > 60.0) & (mumu_lv.mass < 120.0)):\n",
    "                    mumu_pt = mumu_lv.pt\n",
    "                    mumu_mass = mumu_lv.mass\n",
    "                    z_lv = mumu_lv\n",
    "                    \n",
    "        #find Z->ee candidates\n",
    "        ee_pt = -1.0\n",
    "        ee_mass = -1.0\n",
    "\n",
    "        sel_e_pt   = ElectronPT[sel_ev_ID]\n",
    "        sel_e_eta  = ElectronEta[sel_ev_ID]\n",
    "        sel_e_phi  = ElectronPhi[sel_ev_ID]\n",
    "\n",
    "        sel_e_m_pt   = ElectronPT[ElectronCharge ==-1][sel_ev_ID]\n",
    "        sel_e_m_eta  = ElectronEta[ElectronCharge ==-1][sel_ev_ID]\n",
    "        sel_e_m_phi  = ElectronPhi[ElectronCharge ==-1][sel_ev_ID] \n",
    "    \n",
    "        sel_e_p_pt   = ElectronPT[ElectronCharge ==1][sel_ev_ID]\n",
    "        sel_e_p_eta  = ElectronEta[ElectronCharge ==1][sel_ev_ID]\n",
    "        sel_e_p_phi  = ElectronPhi[ElectronCharge ==1][sel_ev_ID] \n",
    "        \n",
    "        #make e+ e- combinations\n",
    "        for em in range(0, len(sel_e_m_pt)):            \n",
    "            e_m_lv = LVepm.TLorentzVector.from_ptetaphim(sel_e_m_pt[em],sel_e_m_eta[em],sel_e_m_phi[em], 0.0)\n",
    "            for ep in range(0, len(sel_e_p_pt)):\n",
    "                e_p_lv = LVepm.TLorentzVector.from_ptetaphim(sel_e_p_pt[ep],sel_e_p_eta[ep],sel_e_p_phi[ep], 0.0)\n",
    "                ee_lv = e_m_lv + e_p_lv\n",
    "                if ((ee_lv.mass > 60.0) & (ee_lv.mass < 120.0)):\n",
    "                    ee_pt = ee_lv.pt\n",
    "                    ee_mass = ee_lv.mass\n",
    "                    z_lv = ee_lv\n",
    "    \n",
    "        #print(\"4 Change array entries to Zpt values\")\n",
    "        if (mumu_pt != -1):\n",
    "            z_pt_reco[sel_ev_ID] = mumu_pt\n",
    "            z_mass_reco[sel_ev_ID] = mumu_mass\n",
    "        elif (ee_pt != -1):\n",
    "            z_pt_reco[sel_ev_ID] = ee_pt\n",
    "            z_mass_reco[sel_ev_ID] = ee_mass\n",
    "\n",
    "    print(\"Number of fully-selected events = \" + str(len(z_mass_reco[z_mass_reco>0])))\n",
    "    \n",
    "    \n",
    "    H_z_mass, b = np.histogram(z_mass_reco, weights=np.full(len(z_mass_reco),evWeight), bins=bins_z_mass)\n",
    "    H_z_pt, b = np.histogram(z_pt_reco, weights=np.full(len(z_pt_reco), evWeight), bins=bins_z_pt)\n",
    "    H_z_pt_true, b = np.histogram(z_pt_true, weights=np.full(len(z_pt_reco), evWeight), bins=bins_z_pt)\n",
    "    H_ht, b = np.histogram(HT[event_cut], weights=np.full(len(HT[event_cut]), evWeight), bins=bins_ht)\n",
    "    H_met, b = np.histogram(MET[event_cut], weights=np.full(len(MET[event_cut]), evWeight), bins=bins_met)\n",
    "    H_bjj_mass, b = np.histogram(bjj_lv.mass, weights=np.full(len(bjj_lv.mass), evWeight), bins=bins_bjj_mass)\n",
    "\n",
    "    plot_z_pt.append(H_z_pt)\n",
    "    plot_z_pt_true.append(H_z_pt_true)\n",
    "    plot_z_mass.append(H_z_mass)       \n",
    "    plot_ht.append(H_ht)\n",
    "    plot_met.append(H_met)\n",
    "    plot_bjj_mass.append(H_bjj_mass)\n",
    "    \n",
    "    if (samples[isample] == \"twz\"):               \n",
    "        csv_true_name = \"/Users/jameskeaveney/DockerRoot/RooUnfold/z_pt_true_\" + str(samples[isample]) + \".csv\"\n",
    "        csv_reco_name = \"/Users/jameskeaveney/DockerRoot/RooUnfold/z_pt_reco_\" + str(samples[isample]) + \".csv\"\n",
    "        np.savetxt(csv_true_name, z_pt_true, delimiter=\",\")\n",
    "        np.savetxt(csv_reco_name, z_pt_reco, delimiter=\",\")    "
   ]
  },
  {
   "cell_type": "code",
   "execution_count": 151,
   "metadata": {
    "scrolled": true
   },
   "outputs": [
    {
     "data": {
      "image/png": "[encoded data removed]",
      "text/plain": [
       "<Figure size 432x288 with 1 Axes>"
      ]
     },
     "metadata": {
      "needs_background": "light"
     },
     "output_type": "display_data"
    },
    {
     "data": {
      "image/png": "[encoded data removed]",
      "text/plain": [
       "<Figure size 432x288 with 1 Axes>"
      ]
     },
     "metadata": {
      "needs_background": "light"
     },
     "output_type": "display_data"
    },
    {
     "name": "stdout",
     "output_type": "stream",
     "text": [
      "[1.15728222e-04 8.43666312e-05 2.99285765e-05]\n",
      " \n",
      "[1.80362087e-05 1.24112176e-05 4.94142705e-06]\n",
      " \n",
      "[2438.527872 1777.702784  630.629824]\n",
      "[46969.96735199 26990.84995201  8197.04028   ]\n",
      " \n"
     ]
    },
    {
     "data": {
      "image/png": "[encoded data removed]",
      "text/plain": [
       "<Figure size 432x288 with 1 Axes>"
      ]
     },
     "metadata": {
      "needs_background": "light"
     },
     "output_type": "display_data"
    },
    {
     "data": {
      "image/png": "[encoded data removed]",
      "text/plain": [
       "<Figure size 432x288 with 1 Axes>"
      ]
     },
     "metadata": {
      "needs_background": "light"
     },
     "output_type": "display_data"
    },
    {
     "data": {
      "image/png": "[encoded data removed]",
      "text/plain": [
       "<Figure size 432x288 with 1 Axes>"
      ]
     },
     "metadata": {
      "needs_background": "light"
     },
     "output_type": "display_data"
    },
    {
     "data": {
      "image/png": "[encoded data removed]",
      "text/plain": [
       "<Figure size 432x288 with 1 Axes>"
      ]
     },
     "metadata": {
      "needs_background": "light"
     },
     "output_type": "display_data"
    },
    {
     "data": {
      "image/png": "[encoded data removed]",
      "text/plain": [
       "<Figure size 432x288 with 1 Axes>"
      ]
     },
     "metadata": {
      "needs_background": "light"
     },
     "output_type": "display_data"
    }
   ],
   "source": [
    "#bin_width = bins_ll_pt[1] - bins_ll_pt[0]\n",
    "#diff_xs = plot_ll_pt[0]/(intLumi*bin_width)#\n",
    "\n",
    "\n",
    "plt.figure()\n",
    "hep.histplot(plot_bjj_mass, bins=bins_bjj_mass, stack=False, density=True, label=samples, histtype='step')\n",
    "plt.legend(loc=1, ncol=3, fontsize=9)\n",
    "plt.xlabel(\"pt [GeV]\")\n",
    "plt.ylabel(\"# events\")\n",
    "#plt.yscale('log')\n",
    "plt.ylim([0.0, 0.004])\n",
    "plt.show()\n",
    "\n",
    "\n",
    "plt.figure()\n",
    "hep.histplot(plot_z_mass, bins=bins_z_mass, stack=True, label=samples, histtype='fill')\n",
    "plt.legend(loc=1, ncol=3, fontsize=9)\n",
    "plt.xlabel(\"pt [GeV]\")\n",
    "plt.ylabel(\"# events\")\n",
    "#plt.yscale('log')\n",
    "plt.ylim([0.1, 1500])\n",
    "plt.show()\n",
    "\n",
    "\n",
    "bin_width = bins_z_pt[1] - bins_z_pt[0]\n",
    "print(plot_z_pt_true[2]/(BR[2] *  intLumi * n_events * (4695/30000) * bin_width ))\n",
    "print(\" \")\n",
    "\n",
    "\n",
    "print(plot_z_pt[2]/(BR[2] *  intLumi * n_events * (4695/30000)  * bin_width ))\n",
    "#print(plot_z_pt[0] + plot_z_pt[1])\n",
    "print(\" \")\n",
    "\n",
    "\n",
    "print(plot_z_pt_true[2])\n",
    "print(plot_z_pt_true[0] + plot_z_pt_true[1])\n",
    "print(\" \")\n",
    "\n",
    "\n",
    "plt.figure()\n",
    "hep.histplot(plot_z_pt_true, bins=bins_z_pt, stack=True, label=samples, histtype='fill')\n",
    "plt.legend(loc=1, ncol=3, fontsize=9)\n",
    "plt.xlabel(\"pt [GeV]\")\n",
    "plt.ylabel(\"# events\")\n",
    "plt.ylim([0.1, 60000])\n",
    "plt.show()\n",
    "\n",
    "\n",
    "\n",
    "\n",
    "plt.figure()\n",
    "hep.histplot(plot_z_pt, bins=bins_z_pt, stack=True, label=samples, histtype='fill')\n",
    "plt.legend(loc=1, ncol=3, fontsize=9)\n",
    "plt.xlabel(\"pt [GeV]\")\n",
    "plt.ylabel(\"# events\")\n",
    "plt.ylim([0.1, 4000])\n",
    "plt.show()\n",
    "\n",
    "plt.figure()\n",
    "hep.histplot(plot_ht, bins=bins_ht, stack=False, density=True, label=samples, histtype='step')\n",
    "plt.legend(loc=1, ncol=3, fontsize=9)\n",
    "plt.xlabel(\"HT [GeV]\")\n",
    "plt.ylabel(\"# events\")\n",
    "plt.ylim([0.0001, 0.005])\n",
    "plt.show()\n",
    "\n",
    "plt.figure()\n",
    "hep.histplot(plot_met, bins=bins_met, stack=False, density=True, label=samples, histtype='step')\n",
    "plt.legend(loc=1, ncol=3, fontsize=9)\n",
    "plt.xlabel(\"MET [GeV]\")\n",
    "plt.ylabel(\"# events\")\n",
    "plt.ylim([0.0001, 0.012])\n",
    "plt.show()\n",
    "\n",
    "\n",
    "#s/sqrtb()\n",
    "s_sqrt_b = plot_z_pt[2] / ( np.sqrt( plot_z_pt[0] + plot_z_pt[1]   )  )\n",
    "\n",
    "plt.figure()\n",
    "hep.histplot(s_sqrt_b, bins=bins_z_pt, stack=True, label=\"s/sqrt(b)\", histtype='step')\n",
    "plt.legend(loc=1, ncol=3, fontsize=9)\n",
    "plt.xlabel(\"pt [GeV]\")\n",
    "plt.ylabel(\"# events\")\n",
    "plt.ylim([0.1, 10])\n",
    "plt.show()\n"
   ]
  }
 ],
 "metadata": {
  "kernelspec": {
   "display_name": "Python 3",
   "language": "python",
   "name": "python3"
  },
  "language_info": {
   "codemirror_mode": {
    "name": "ipython",
    "version": 3
   },
   "file_extension": ".py",
   "mimetype": "text/x-python",
   "name": "python",
   "nbconvert_exporter": "python",
   "pygments_lexer": "ipython3",
   "version": "3.8.5"
  }
 },
 "nbformat": 4,
 "nbformat_minor": 4
}
