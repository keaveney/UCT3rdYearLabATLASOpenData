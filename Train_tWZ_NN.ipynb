{
 "cells": [
  {
   "cell_type": "code",
   "execution_count": 1,
   "metadata": {},
   "outputs": [],
   "source": [
    "from sklearn.model_selection import train_test_split\n",
    "from sklearn import preprocessing\n",
    "from keras.models import Sequential\n",
    "from keras.layers import Dense  \n",
    "from keras import backend as K\n",
    "\n",
    "import infofile\n",
    "import uproot3 as uproot\n",
    "import uproot3_methods.classes.TLorentzVector as LVepm\n",
    "import numpy as np\n",
    "import matplotlib.pyplot as plt\n",
    "from scipy import stats\n",
    "import pandas as pd"
   ]
  },
  {
   "cell_type": "code",
   "execution_count": 314,
   "metadata": {},
   "outputs": [],
   "source": [
    "samples = [\"tzq\", \"wzjj\", \"wzbb\", \"ttz\", \"twz\"]\n",
    "#samples = [\"ttz\", \"twz\"]\n",
    "\n",
    "frames = []"
   ]
  },
  {
   "cell_type": "code",
   "execution_count": 340,
   "metadata": {},
   "outputs": [
    {
     "data": {
      "text/html": [
       "<div>\n",
       "<style scoped>\n",
       "    .dataframe tbody tr th:only-of-type {\n",
       "        vertical-align: middle;\n",
       "    }\n",
       "\n",
       "    .dataframe tbody tr th {\n",
       "        vertical-align: top;\n",
       "    }\n",
       "\n",
       "    .dataframe thead th {\n",
       "        text-align: right;\n",
       "    }\n",
       "</style>\n",
       "<table border=\"1\" class=\"dataframe\">\n",
       "  <thead>\n",
       "    <tr style=\"text-align: right;\">\n",
       "      <th></th>\n",
       "      <th>Unnamed: 0</th>\n",
       "      <th>MET</th>\n",
       "      <th>HT</th>\n",
       "      <th>ST</th>\n",
       "      <th>NJETS</th>\n",
       "      <th>NBTAGS</th>\n",
       "      <th>WMASS</th>\n",
       "      <th>TMASS</th>\n",
       "      <th>DPHIBMET</th>\n",
       "      <th>weight</th>\n",
       "      <th>label</th>\n",
       "    </tr>\n",
       "  </thead>\n",
       "  <tbody>\n",
       "    <tr>\n",
       "      <th>0</th>\n",
       "      <td>0</td>\n",
       "      <td>80.821373</td>\n",
       "      <td>463.365570</td>\n",
       "      <td>349.164490</td>\n",
       "      <td>2</td>\n",
       "      <td>0</td>\n",
       "      <td>-1</td>\n",
       "      <td>-1</td>\n",
       "      <td>-1</td>\n",
       "      <td>10.45704</td>\n",
       "      <td>0.0</td>\n",
       "    </tr>\n",
       "    <tr>\n",
       "      <th>1</th>\n",
       "      <td>1</td>\n",
       "      <td>17.423632</td>\n",
       "      <td>562.879395</td>\n",
       "      <td>304.995544</td>\n",
       "      <td>3</td>\n",
       "      <td>1</td>\n",
       "      <td>-1</td>\n",
       "      <td>-1</td>\n",
       "      <td>-1</td>\n",
       "      <td>10.45704</td>\n",
       "      <td>0.0</td>\n",
       "    </tr>\n",
       "    <tr>\n",
       "      <th>2</th>\n",
       "      <td>2</td>\n",
       "      <td>72.726135</td>\n",
       "      <td>664.975281</td>\n",
       "      <td>552.042419</td>\n",
       "      <td>1</td>\n",
       "      <td>0</td>\n",
       "      <td>-1</td>\n",
       "      <td>-1</td>\n",
       "      <td>-1</td>\n",
       "      <td>10.45704</td>\n",
       "      <td>0.0</td>\n",
       "    </tr>\n",
       "    <tr>\n",
       "      <th>3</th>\n",
       "      <td>3</td>\n",
       "      <td>61.569218</td>\n",
       "      <td>576.815369</td>\n",
       "      <td>355.729095</td>\n",
       "      <td>2</td>\n",
       "      <td>1</td>\n",
       "      <td>-1</td>\n",
       "      <td>-1</td>\n",
       "      <td>-1</td>\n",
       "      <td>10.45704</td>\n",
       "      <td>0.0</td>\n",
       "    </tr>\n",
       "    <tr>\n",
       "      <th>4</th>\n",
       "      <td>4</td>\n",
       "      <td>43.451080</td>\n",
       "      <td>489.136627</td>\n",
       "      <td>341.868805</td>\n",
       "      <td>2</td>\n",
       "      <td>1</td>\n",
       "      <td>-1</td>\n",
       "      <td>-1</td>\n",
       "      <td>-1</td>\n",
       "      <td>10.45704</td>\n",
       "      <td>0.0</td>\n",
       "    </tr>\n",
       "  </tbody>\n",
       "</table>\n",
       "</div>"
      ],
      "text/plain": [
       "   Unnamed: 0        MET          HT          ST  NJETS  NBTAGS  WMASS  TMASS  \\\n",
       "0           0  80.821373  463.365570  349.164490      2       0     -1     -1   \n",
       "1           1  17.423632  562.879395  304.995544      3       1     -1     -1   \n",
       "2           2  72.726135  664.975281  552.042419      1       0     -1     -1   \n",
       "3           3  61.569218  576.815369  355.729095      2       1     -1     -1   \n",
       "4           4  43.451080  489.136627  341.868805      2       1     -1     -1   \n",
       "\n",
       "   DPHIBMET    weight  label  \n",
       "0        -1  10.45704    0.0  \n",
       "1        -1  10.45704    0.0  \n",
       "2        -1  10.45704    0.0  \n",
       "3        -1  10.45704    0.0  \n",
       "4        -1  10.45704    0.0  "
      ]
     },
     "execution_count": 340,
     "metadata": {},
     "output_type": "execute_result"
    }
   ],
   "source": [
    "frames = []\n",
    "for isample in range(0, len(samples)):\n",
    "        frame_name = str(\"dframe_\") + str(samples[isample] + \".csv\")\n",
    "        df = pd.read_csv(frame_name)\n",
    "        frames.append(df)\n",
    "\n",
    "df = pd.concat(frames)       \n",
    "\n",
    "df.head()"
   ]
  },
  {
   "cell_type": "code",
   "execution_count": 341,
   "metadata": {},
   "outputs": [
    {
     "name": "stdout",
     "output_type": "stream",
     "text": [
      "[0 0 0 ... 1 1 1]\n",
      "Number of signal events = 30000\n",
      "Number of background events = 120000\n"
     ]
    }
   ],
   "source": [
    "#extract features, labels, and weights\n",
    "Labels=df['label']\n",
    "\n",
    "lb = preprocessing.LabelBinarizer()\n",
    "labels = lb.fit_transform(Labels)\n",
    "features = df.iloc[:,1:8].astype(float)\n",
    "\n",
    "X=features\n",
    "y=np.ravel(labels)\n",
    "\n",
    "print(y)\n",
    "\n",
    "print(\"Number of signal events = \" + str(np.count_nonzero(y == 1)))\n",
    "print(\"Number of background events = \" + str(np.count_nonzero(y == 0)))\n",
    "\n",
    "weights = df['weight']\n",
    "weights=np.ravel(weights) \n",
    "\n",
    "#weights = np.ones(len(labels))\n",
    "\n",
    "X_train, X_test, y_train, y_test, weights_train, weights_test = train_test_split(X, y, weights, test_size=0.05, random_state=42, shuffle=True)\n",
    "\n",
    "# (apply final weight to each event, but give uniform weight to signal class to equalise sum of weights\n",
    "#takes some manipulation!) \n",
    "df_train = pd.DataFrame()\n",
    "df_train[\"label\"] = y_train\n",
    "df_train[\"weights\"] = weights_train\n",
    "\n",
    "sigSumWeights = np.sum(df_train[df_train[\"label\"]==1][\"weights\"])\n",
    "bkgSumWeights = np.sum(df_train[df_train[\"label\"]==0][\"weights\"])\n",
    "\n",
    "#equalise sum of weights for sig. and bkg.\n",
    "scale = (bkgSumWeights/sigSumWeights)\n",
    "df_train.loc[df_train.label==1, \"weights\"] *= scale\n",
    "\n",
    "modsigSumWeights = np.sum(df_train[df_train[\"label\"]==1][\"weights\"])\n",
    "\n",
    "#print(bkgSumWeights)\n",
    "#print(sigSumWeights)\n",
    "#print(modsigSumWeights)\n",
    "\n",
    "final_weights_train = df_train[\"weights\"]\n",
    "\n",
    "#print(\"final_weights_train\")\n",
    "#print(final_weights_train)\n",
    "#hist = df.hist(bins=10)"
   ]
  },
  {
   "cell_type": "code",
   "execution_count": 343,
   "metadata": {},
   "outputs": [
    {
     "data": {
      "image/png": "[encoded data removed]",
      "text/plain": [
       "<Figure size 432x288 with 8 Axes>"
      ]
     },
     "metadata": {
      "needs_background": "light"
     },
     "output_type": "display_data"
    },
    {
     "data": {
      "image/png": "[encoded data removed]",
      "text/plain": [
       "<Figure size 432x288 with 1 Axes>"
      ]
     },
     "metadata": {
      "needs_background": "light"
     },
     "output_type": "display_data"
    }
   ],
   "source": [
    "def sephist(col):\n",
    "    yes = df[(df['label'] == 1.0)  ][col]\n",
    "    no = df[(df['label']  == 0.0) ][col]\n",
    "    return yes, no\n",
    "\n",
    "vars = ['MET', 'HT', 'ST', 'NJETS', 'NBTAGS' , 'WMASS', 'TMASS', 'DPHIBMET']\n",
    "for num, alpha in enumerate(vars):\n",
    "    plt.subplot(3, 3, num+1)\n",
    "    scale  = np.sum(sephist(alpha)[1]) / np.sum(sephist(alpha)[0])\n",
    "    plt.hist((sephist(alpha)[0])*scale , bins=25, alpha=0.5, label='sig', color='b')\n",
    "    plt.hist(sephist(alpha)[1], bins=25, alpha=0.5, label= 'bkg', color='r')\n",
    "    plt.legend(loc='upper right')\n",
    "    plt.title(alpha)\n",
    "plt.tight_layout(pad=0.6, w_pad=0.8, h_pad=1.0)\n",
    "\n",
    "#bins_jj_mass = np.linspace(-2.0, 2500.0, num=35)\n",
    "bins_jj_mass = np.linspace(0.0, 8.0, num=8)\n",
    "\n",
    "plt.figure()\n",
    "scale  = (np.sum(sephist(\"NJETS\")[1]) / np.sum(sephist(\"NJETS\")[0]))\n",
    "plt.hist((sephist(\"NJETS\")[0])*scale, bins=bins_jj_mass, alpha=0.5, label='sig', color='b')\n",
    "plt.hist(sephist(\"NJETS\")[1], bins=bins_jj_mass, alpha=0.5, label='bkg', color='r')\n",
    "plt.legend(loc='upper right')\n",
    "plt.xlim([0.0, 8.0])\n",
    "#plt.xlim([0.0, 2500.0])\n",
    "plt.yscale('log')\n",
    "plt.tight_layout(pad=0.6, w_pad=0.8, h_pad=1.0)"
   ]
  },
  {
   "cell_type": "code",
   "execution_count": 336,
   "metadata": {},
   "outputs": [
    {
     "name": "stdout",
     "output_type": "stream",
     "text": [
      "Epoch 1/12\n",
      "2850/2850 [==============================] - 2s 689us/step - loss: 64.4289\n",
      "Epoch 2/12\n",
      "2850/2850 [==============================] - 2s 628us/step - loss: 58.1274\n",
      "Epoch 3/12\n",
      "2850/2850 [==============================] - 2s 674us/step - loss: 48.3212\n",
      "Epoch 4/12\n",
      "2850/2850 [==============================] - 2s 647us/step - loss: 47.3607\n",
      "Epoch 5/12\n",
      "2850/2850 [==============================] - 2s 658us/step - loss: 46.7830\n",
      "Epoch 6/12\n",
      "2850/2850 [==============================] - 2s 662us/step - loss: 46.9471\n",
      "Epoch 7/12\n",
      "2850/2850 [==============================] - 2s 628us/step - loss: 46.7771\n",
      "Epoch 8/12\n",
      "2850/2850 [==============================] - 2s 655us/step - loss: 46.5944\n",
      "Epoch 9/12\n",
      "2850/2850 [==============================] - 2s 626us/step - loss: 46.8066\n",
      "Epoch 10/12\n",
      "2850/2850 [==============================] - 2s 622us/step - loss: 46.5808\n",
      "Epoch 11/12\n",
      "2850/2850 [==============================] - 2s 680us/step - loss: 46.4642\n",
      "Epoch 12/12\n",
      "2850/2850 [==============================] - 2s 675us/step - loss: 46.5231\n",
      "INFO:tensorflow:Assets written to: twz_3l/assets\n"
     ]
    }
   ],
   "source": [
    "model = Sequential()\n",
    "model.add(Dense(7, input_dim=7, activation='relu', kernel_regularizer=None))\n",
    "model.add(Dense(14, activation='relu', kernel_regularizer=None))\n",
    "model.add(Dense(28, activation='relu', kernel_regularizer=None))\n",
    "model.add(Dense(28, activation='relu', kernel_regularizer=None))\n",
    "model.add(Dense(1, activation='sigmoid'))\n",
    "model.compile(loss='binary_crossentropy', optimizer='adam')\n",
    "\n",
    "#model.compile(loss=sigLoss, optimizer='adam')   \n",
    "model.fit(X_train, y_train, epochs=12,sample_weight=final_weights_train, batch_size=50, verbose=1)\n",
    "model.save(\"twz_3l\")"
   ]
  },
  {
   "cell_type": "code",
   "execution_count": 337,
   "metadata": {},
   "outputs": [
    {
     "data": {
      "image/png": "[encoded data removed]",
      "text/plain": [
       "<Figure size 432x288 with 1 Axes>"
      ]
     },
     "metadata": {
      "needs_background": "light"
     },
     "output_type": "display_data"
    },
    {
     "name": "stdout",
     "output_type": "stream",
     "text": [
      "[1.         1.00001583 1.07535279 1.24570076 1.56650547 1.96811366\n",
      " 2.46751989 4.0231679  4.85464067 4.90578131 4.92416923 4.97513873\n",
      " 5.01685134 5.09606171 5.21859715 5.53628768 5.60204602        nan\n",
      "        nan        nan]\n"
     ]
    },
    {
     "name": "stderr",
     "output_type": "stream",
     "text": [
      "<ipython-input-337-049c3571b6ad>:30: RuntimeWarning: invalid value encountered in true_divide\n",
      "  s_over_b = selSig/selBkg\n"
     ]
    },
    {
     "data": {
      "image/png": "[encoded data removed]",
      "text/plain": [
       "<Figure size 432x288 with 1 Axes>"
      ]
     },
     "metadata": {
      "needs_background": "light"
     },
     "output_type": "display_data"
    },
    {
     "data": {
      "image/png": "[encoded data removed]",
      "text/plain": [
       "<Figure size 432x288 with 1 Axes>"
      ]
     },
     "metadata": {
      "needs_background": "light"
     },
     "output_type": "display_data"
    }
   ],
   "source": [
    "# plot discriminator values for \"test\" portion of dataset not used in training \n",
    "pred_test = model.predict(X_test)\n",
    "\n",
    "df = pd.DataFrame()\n",
    "df[\"labels\"] = y_test\n",
    "df[\"predictions\"] = pred_test\n",
    "df[\"weights\"] = weights_test\n",
    "\n",
    "signalVals = df[df['labels']== 1] \n",
    "backgroundVals = df[df['labels']== 0] \n",
    "\n",
    "plt.figure()\n",
    "plt.xlabel(\"NN discriminant\")\n",
    "plt.ylabel(\"#exp. events\")\n",
    "bkgHist = plt.hist(backgroundVals[\"predictions\"], bins=20, weights=backgroundVals[\"weights\"],label=\"Backgrounds\", range=[0,1], alpha=0.6, density=True)\n",
    "sigHist = plt.hist(signalVals[\"predictions\"], bins=20, weights=signalVals[\"weights\"],  label=r\"$tWZ$ signal\",range=[0,1], alpha=0.6, density=True)\n",
    "plt.legend()\n",
    "#plt.yscale('log')\n",
    "plt.show()\n",
    "\n",
    "selBkg = np.array([])\n",
    "selSig = np.array([])\n",
    "\n",
    "for bin in range(0, len(bkgHist[0])):\n",
    "    selBkg = np.append(selBkg, 1.0 - (np.sum(bkgHist[0][0:bin]) / np.sum(bkgHist[0]) ) )\n",
    "    selSig = np.append(selSig,1.0 - (np.sum(sigHist[0][0:bin]) / np.sum(sigHist[0]) ) )\n",
    "    #selBkg = np.sum(bkgHist[0][0:bin]) / np.sum(bkgHist[0]) \n",
    "    #selSig = np.sum(sigHist[0][0:bin]) / np.sum(sigHist[0]) \n",
    "    \n",
    "s_over_b = selSig/selBkg\n",
    "bincenters = np.mean(np.vstack([sigHist[1][0:-1],sigHist[1][1:]]), axis=0)\n",
    "\n",
    "print(s_over_b)\n",
    "\n",
    "plt.figure()\n",
    "plt.plot(bincenters, s_over_b, alpha=0.5)\n",
    "plt.xlabel(\"eff. signal\")\n",
    "plt.ylabel(\"eff. background\")\n",
    "plt.show()\n",
    "\n",
    "plt.figure()\n",
    "plt.scatter(selSig, selBkg, alpha=0.5)\n",
    "plt.xlabel(\"eff. signal\")\n",
    "plt.ylabel(\"eff. background\")\n",
    "plt.show()\n",
    "    \n",
    "#df.plot.scatter(x='predictions', y='WMASS', title= \"\");"
   ]
  }
 ],
 "metadata": {
  "kernelspec": {
   "display_name": "Python 3",
   "language": "python",
   "name": "python3"
  },
  "language_info": {
   "codemirror_mode": {
    "name": "ipython",
    "version": 3
   },
   "file_extension": ".py",
   "mimetype": "text/x-python",
   "name": "python",
   "nbconvert_exporter": "python",
   "pygments_lexer": "ipython3",
   "version": "3.8.5"
  }
 },
 "nbformat": 4,
 "nbformat_minor": 4
}
