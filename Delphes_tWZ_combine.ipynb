{
 "cells": [
  {
   "cell_type": "code",
   "execution_count": 2,
   "metadata": {},
   "outputs": [],
   "source": [
    "import uproot3 as uproot\n",
    "import uproot_methods\n",
    "import uproot_methods.classes.TLorentzVector as LVepm\n",
    "import matplotlib.pyplot as plt\n",
    "import time\n",
    "import infofile\n",
    "import numpy as np\n",
    "import mplhep as hep\n",
    "from scipy import stats\n",
    "import boost_histogram as bh\n",
    "import pandas as pd"
   ]
  },
  {
   "cell_type": "code",
   "execution_count": 22,
   "metadata": {},
   "outputs": [],
   "source": [
    "samples = [\"twz 3l\", \"ttz 3l\", \"twz_4l\",\"ttz_4l\"]\n",
    "\n",
    "yields = {\n",
    "          #\"twz 3l\": np.array([97.006624, 77.049984, 31.757088]),\n",
    "          #\"ttz 3l\": np.array([412.173432, 448.50828 , 212.331768]),\n",
    "          \"twz_4l\": np.array([25.42649472, 20.69243264,  8.9718112 ]),\n",
    "          \"ttz_4l\": np.array([101.1698424 , 109.41331104,  41.96674944])\n",
    "         }\n",
    "\n",
    "\n",
    "twz_diff_xsec = yi\n"
   ]
  },
  {
   "cell_type": "code",
   "execution_count": 25,
   "metadata": {},
   "outputs": [
    {
     "data": {
      "image/png": "[encoded data removed]",
      "text/plain": [
       "<Figure size 432x288 with 1 Axes>"
      ]
     },
     "metadata": {
      "needs_background": "light"
     },
     "output_type": "display_data"
    }
   ],
   "source": [
    "plot_zpt_diff_xs = []\n",
    "plot_zpt_diff_xs_true = []\n",
    "\n",
    "bins_ll_pt = np.linspace(0.0, 300.0, num=4)\n",
    "\n",
    "hists = list(yields.values())\n",
    "labels = list(yields.keys())\n",
    "\n",
    "plt.figure()\n",
    "hep.histplot(hists, bins=bins_ll_pt, stack=False, label=labels, histtype='step')\n",
    "plt.legend(loc=1, ncol=3, fontsize=9)\n",
    "plt.xlabel(\"pt [GeV]\")\n",
    "plt.ylabel(\"# events\")\n",
    "#plt.yscale('log')\n",
    "plt.ylim([0.1, 200])\n",
    "plt.show()\n",
    "\n",
    "   "
   ]
  },
  {
   "cell_type": "code",
   "execution_count": 32,
   "metadata": {
    "scrolled": true
   },
   "outputs": [
    {
     "data": {
      "image/png": "[encoded data removed]",
      "text/plain": [
       "<Figure size 432x288 with 1 Axes>"
      ]
     },
     "metadata": {
      "needs_background": "light"
     },
     "output_type": "display_data"
    },
    {
     "name": "stderr",
     "output_type": "stream",
     "text": [
      "No handles with labels found to put in legend.\n"
     ]
    },
    {
     "data": {
      "image/png": "[encoded data removed]",
      "text/plain": [
       "<Figure size 432x288 with 1 Axes>"
      ]
     },
     "metadata": {
      "needs_background": "light"
     },
     "output_type": "display_data"
    },
    {
     "data": {
      "text/plain": [
       "'\\nplt.figure()\\nhep.histplot(plot_ll_pt_true, bins=bins_ll_pt, stack=True, label=samples, histtype=\\'fill\\')\\nplt.legend(loc=1, ncol=3, fontsize=9)\\nplt.xlabel(\"Z pt [GeV]\")\\nplt.ylabel(\"# events\")\\n#plt.yscale(\\'log\\')\\nplt.ylim([0.1, 1200])\\nplt.show()\\n\\nplt.figure()\\nhep.histplot(plot_ll_masses, bins=bins_ll_masses, stack=True, label=samples, histtype=\\'fill\\')\\nplt.legend(loc=1, ncol=3, fontsize=9)\\nplt.xlabel(\"mass [GeV]\")\\nplt.ylabel(\"# events\")\\n#plt.yscale(\\'log\\')\\nplt.ylim([0.1, 300])\\nplt.show()\\n\\nplt.figure()\\nhep.histplot(plot_nbtag, bins=bins_nbtag, stack=False, label=samples, histtype=\\'step\\')\\nplt.legend(loc=1, ncol=3, fontsize=9)\\nplt.xlabel(\"n btags\")\\nplt.ylabel(\"# events\")\\n#plt.yscale(\\'log\\')\\nplt.ylim([0.1, 25000])\\nplt.show()\\n\\nplt.figure()\\nhep.histplot(plot_njet, bins=bins_njet, stack=False, label=samples, histtype=\\'step\\')\\nplt.legend(loc=1, ncol=3, fontsize=9)\\nplt.xlabel(\"n jets\")\\nplt.ylabel(\"# events\")\\n#plt.yscale(\\'log\\')\\nplt.ylim([0.1, 13000])\\nplt.show()\\n\\nplt.figure()\\nhep.histplot(plot_ht, bins=bins_ht, stack=True, label=samples, histtype=\\'fill\\')\\nplt.legend(loc=1, ncol=3, fontsize=9)\\nplt.xlabel(\"ht\")\\nplt.ylabel(\"# events\")\\n#plt.yscale(\\'log\\')\\nplt.ylim([0.1, 3075])\\nplt.show()\\n'"
      ]
     },
     "execution_count": 32,
     "metadata": {},
     "output_type": "execute_result"
    }
   ],
   "source": [
    "#bin_width = bins_ll_pt[1] - bins_ll_pt[0]\n",
    "#diff_xs = plot_ll_pt[0]/(intLumi*bin_width)#\n",
    "\n",
    "plt.figure()\n",
    "hep.histplot(plot_ll_pt, bins=bins_ll_pt, stack=True, label=samples, histtype='fill')\n",
    "plt.legend(loc=1, ncol=3, fontsize=9)\n",
    "plt.xlabel(\"pt [GeV]\")\n",
    "plt.ylabel(\"# events\")\n",
    "#plt.yscale('log')\n",
    "plt.ylim([0.1, 800])\n",
    "plt.show()\n",
    "\n",
    "#s/sqrtb()\n",
    "\n",
    "s_sqrt_b = plot_ll_pt[2] / ( np.sqrt( plot_ll_pt[0] + plot_ll_pt[1]  )  )\n",
    "\n",
    "plt.figure()\n",
    "hep.histplot(s_sqrt_b, bins=bins_ll_pt, stack=True, label=\"\", histtype='step')\n",
    "plt.legend(loc=1, ncol=3, fontsize=9)\n",
    "plt.xlabel(\"pt [GeV]\")\n",
    "plt.ylabel(\"# events\")\n",
    "#plt.yscale('log')\n",
    "plt.ylim([0.1, 7])\n",
    "plt.show()\n",
    "\n",
    "\n",
    "\n",
    "\"\"\"\n",
    "diff_xs_er = (np.sqrt(plot_zpt_diff_xs[0] + plot_zpt_diff_xs[1])) / (BR[isample]*bin_width*(len(z_pt_reco)/30000)*intLumi*1000) \n",
    "\n",
    "#print(bin_width)\n",
    "#print(diff_xs)\n",
    "print(diff_xs_er)\n",
    "\n",
    "plt.figure()\n",
    "hep.histplot(plot_zpt_diff_xs, bins=bins_ll_pt, yerr=diff_xs_er, xerr=True, stack=True, label=samples, histtype='fill')\n",
    "plt.legend(loc=1, ncol=3, fontsize=9)\n",
    "plt.xlabel(\"pt [GeV]\")\n",
    "plt.ylabel(\"# events\")\n",
    "#plt.yscale('log')\n",
    "plt.ylim([0.000, 0.015])\n",
    "plt.show()\n",
    "\"\"\"\n",
    "\n",
    "\n",
    "\n",
    "\"\"\"\n",
    "plt.figure()\n",
    "hep.histplot(plot_ll_pt_true, bins=bins_ll_pt, stack=True, label=samples, histtype='fill')\n",
    "plt.legend(loc=1, ncol=3, fontsize=9)\n",
    "plt.xlabel(\"Z pt [GeV]\")\n",
    "plt.ylabel(\"# events\")\n",
    "#plt.yscale('log')\n",
    "plt.ylim([0.1, 1200])\n",
    "plt.show()\n",
    "\n",
    "plt.figure()\n",
    "hep.histplot(plot_ll_masses, bins=bins_ll_masses, stack=True, label=samples, histtype='fill')\n",
    "plt.legend(loc=1, ncol=3, fontsize=9)\n",
    "plt.xlabel(\"mass [GeV]\")\n",
    "plt.ylabel(\"# events\")\n",
    "#plt.yscale('log')\n",
    "plt.ylim([0.1, 300])\n",
    "plt.show()\n",
    "\n",
    "plt.figure()\n",
    "hep.histplot(plot_nbtag, bins=bins_nbtag, stack=False, label=samples, histtype='step')\n",
    "plt.legend(loc=1, ncol=3, fontsize=9)\n",
    "plt.xlabel(\"n btags\")\n",
    "plt.ylabel(\"# events\")\n",
    "#plt.yscale('log')\n",
    "plt.ylim([0.1, 25000])\n",
    "plt.show()\n",
    "\n",
    "plt.figure()\n",
    "hep.histplot(plot_njet, bins=bins_njet, stack=False, label=samples, histtype='step')\n",
    "plt.legend(loc=1, ncol=3, fontsize=9)\n",
    "plt.xlabel(\"n jets\")\n",
    "plt.ylabel(\"# events\")\n",
    "#plt.yscale('log')\n",
    "plt.ylim([0.1, 13000])\n",
    "plt.show()\n",
    "\n",
    "plt.figure()\n",
    "hep.histplot(plot_ht, bins=bins_ht, stack=True, label=samples, histtype='fill')\n",
    "plt.legend(loc=1, ncol=3, fontsize=9)\n",
    "plt.xlabel(\"ht\")\n",
    "plt.ylabel(\"# events\")\n",
    "#plt.yscale('log')\n",
    "plt.ylim([0.1, 3075])\n",
    "plt.show()\n",
    "\"\"\""
   ]
  },
  {
   "cell_type": "code",
   "execution_count": null,
   "metadata": {},
   "outputs": [],
   "source": [
    "bins_pt_true_mu = np.linspace(0.0, 100.0, num=30)\n",
    "bins_eta_true_mu = np.linspace(-5.0, 5.0, num=20)\n",
    "bins_n_true_mu = np.linspace(-0.5, 6.5, num=8)\n",
    "\n",
    "plot_pt_true_mu = []\n",
    "plot_eta_true_mu = []\n",
    "plot_pt_true_e = []\n",
    "plot_n_true_lep = []\n",
    "\n",
    "for isample in range(0, len(samples)):\n",
    "    \n",
    "    sample_name = str(\"delphes_output_\") + str(samples[isample]) + str(\"_4l.root\")\n",
    "    eventsData = uproot.open(sample_name)[\"Delphes\"] \n",
    "    EventWeight, EventCrossSection, JetPT, JetEta, JetBTag, MuonPT, MuonEta,  MuonPhi,  MuonT, MuonCharge, MuonIsolationVar, MuonDZ, ElectronPT, ElectronEta,  ElectronPhi,  ElectronT, ElectronCharge, ElectronIsolationVar, ParticlePID, ParticleStatus, ParticleMass, ParticlePT, ParticleEta = eventsData.arrays([\"Event.Weight\", \"Event.CrossSection\",\"Jet.PT\", \"Jet.Eta\", \"Jet.BTag\", \"Muon.PT\", \"Muon.Eta\", \"Muon.Phi\", \"Muon.T\", \"Muon.Charge\", \"Muon.IsolationVar\", \"Muon.DZ\", \"Electron.PT\", \"Electron.Eta\", \"Electron.Phi\", \"Electron.T\", \"Electron.Charge\", \"Electron.IsolationVar\", \"Particle.PID\", \"Particle.Status\",\"Particle.Mass\", \"Particle.PT\", \"Particle.Eta\"], outputtype=tuple)\n",
    "    #eventsData.show()\n",
    "    \n",
    "    pt_true_mu = ParticlePT[(abs(ParticlePID)==13) & (abs(ParticleStatus)==1)  & (abs(ParticlePT)>0)]\n",
    "    pt_true_e = ParticlePT[(abs(ParticlePID)==11) & (abs(ParticleStatus)==1) & (abs(ParticlePT)>0)]\n",
    "    eta_true_mu = ParticleEta[(abs(ParticlePID)==13) & (abs(ParticleStatus)==1)  & (abs(ParticlePT)>0)]\n",
    "    n_true_mu = ParticlePT[(abs(ParticlePID)==13) & (abs(ParticleStatus)==1)  & (abs(ParticlePT)>10)].counts\n",
    "    n_true_e = ParticlePT[(abs(ParticlePID)==11) & (abs(ParticleStatus)==1) & (abs(ParticlePT)>10)].counts\n",
    "    \n",
    "    n_true_lep = n_true_mu + n_true_e\n",
    "    print(n_true_mu)\n",
    "    print(n_true_e)\n",
    "    \n",
    "    H_pt_true_mu, b = np.histogram(pt_true_mu.flatten(), bins=bins_pt_true_mu)\n",
    "    H_pt_true_e, b = np.histogram(pt_true_e.flatten(), bins=bins_pt_true_mu)\n",
    "    H_eta_true_mu, b = np.histogram(eta_true_mu.flatten(), bins=bins_eta_true_mu)\n",
    "    H_n_true_lep, b = np.histogram(n_true_lep, bins=bins_n_true_mu)\n",
    "\n",
    "    plot_pt_true_mu.append(H_pt_true_mu)\n",
    "    plot_pt_true_e.append(H_pt_true_e)\n",
    "    plot_eta_true_mu.append(H_eta_true_mu)\n",
    "    plot_n_true_lep.append(H_n_true_lep)\n",
    "\n",
    "plt.figure()\n",
    "hep.histplot(plot_pt_true_mu, bins=bins_pt_true_mu, stack=False, label=samples, histtype='step')\n",
    "plt.legend(loc=1, ncol=3, fontsize=9)\n",
    "plt.xlabel(\"pt mu\")\n",
    "plt.ylabel(\"# events\")\n",
    "plt.yscale('log')\n",
    "plt.ylim([500, 20000])\n",
    "plt.show()\n",
    "\n",
    "plt.figure()\n",
    "hep.histplot(plot_pt_true_e, bins=bins_pt_true_mu, stack=False, label=samples, histtype='step')\n",
    "plt.legend(loc=1, ncol=3, fontsize=9)\n",
    "plt.xlabel(\"pt e\")\n",
    "plt.ylabel(\"# events\")\n",
    "plt.yscale('log')\n",
    "plt.ylim([500, 120000])\n",
    "plt.show()\n",
    "\n",
    "plt.figure()\n",
    "hep.histplot(plot_eta_true_mu, bins=bins_eta_true_mu, stack=False, label=samples, histtype='step')\n",
    "plt.legend(loc=1, ncol=3, fontsize=9)\n",
    "plt.xlabel(\"eta mu\")\n",
    "plt.ylabel(\"# events\")\n",
    "plt.yscale('log')\n",
    "plt.ylim([500, 20000])\n",
    "plt.show()\n",
    "\n",
    "plt.figure()\n",
    "hep.histplot(plot_n_true_lep, bins=bins_n_true_mu, stack=False, label=samples, histtype='step')\n",
    "plt.legend(loc=1, ncol=3, fontsize=9)\n",
    "plt.xlabel(\"N lep\")\n",
    "plt.ylabel(\"# events\")\n",
    "plt.yscale('log')\n",
    "plt.ylim([500, 20000])\n",
    "plt.show()"
   ]
  }
 ],
 "metadata": {
  "kernelspec": {
   "display_name": "Python 3",
   "language": "python",
   "name": "python3"
  },
  "language_info": {
   "codemirror_mode": {
    "name": "ipython",
    "version": 3
   },
   "file_extension": ".py",
   "mimetype": "text/x-python",
   "name": "python",
   "nbconvert_exporter": "python",
   "pygments_lexer": "ipython3",
   "version": "3.8.5"
  }
 },
 "nbformat": 4,
 "nbformat_minor": 4
}
